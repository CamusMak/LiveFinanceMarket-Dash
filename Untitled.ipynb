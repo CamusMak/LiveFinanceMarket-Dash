{
 "cells": [
  {
   "cell_type": "code",
   "execution_count": 6,
   "id": "1502b2c3-84d9-4b01-8882-721553cafba5",
   "metadata": {},
   "outputs": [
    {
     "data": {
      "text/plain": [
       "-8288786703729913769"
      ]
     },
     "execution_count": 6,
     "metadata": {},
     "output_type": "execute_result"
    }
   ],
   "source": [
    "hash(\"[1,2,3,4,5]\")"
   ]
  },
  {
   "cell_type": "code",
   "execution_count": 7,
   "id": "ce90ae7e-f7ce-49be-a81f-e4491205f942",
   "metadata": {},
   "outputs": [],
   "source": [
    "import string"
   ]
  },
  {
   "cell_type": "code",
   "execution_count": 8,
   "id": "d8cdd76c-5b6e-4ab8-93a8-8b775c48adff",
   "metadata": {},
   "outputs": [
    {
     "name": "stdout",
     "output_type": "stream",
     "text": [
      "a -6779912626489729364\n",
      "b -8917240442919122662\n",
      "c 7195823480486144874\n",
      "d -1711520991846779207\n",
      "e -3594152452510725559\n",
      "f 5126790536918359703\n",
      "g 5087125498560242884\n",
      "h 425918844195045624\n",
      "i -4132063073083074794\n",
      "j -1509093764858381419\n",
      "k -4503525825931564692\n",
      "l -2097276106847540023\n",
      "m 4070237638890968140\n",
      "n -4562644227173763017\n",
      "o -7081254348133674744\n",
      "p -4632010504300705527\n",
      "q -8746210782390301143\n",
      "r -6764229466136133249\n",
      "s 2215153492082608861\n",
      "t 2615550392169089204\n",
      "u 5351200605579586979\n",
      "v 8736909352919167426\n",
      "w -8189870562836917620\n",
      "x -326807369611032843\n",
      "y 4246726349268070368\n",
      "z 2395387498504608805\n",
      "A -700698397743410823\n",
      "B 5770412201763121885\n",
      "C 3739643570051167892\n",
      "D 2970295681300249511\n",
      "E -8158030425328487810\n",
      "F 5165990291213330208\n",
      "G 6763477433065274777\n",
      "H -7036443901535219450\n",
      "I 6262336254022232883\n",
      "J -4073695146989371787\n",
      "K 4385022715416929065\n",
      "L 2527506176820045002\n",
      "M 8822914173852123911\n",
      "N -7225176671581942590\n",
      "O -6087098830602933628\n",
      "P 2258736095685900226\n",
      "Q 3985081243714577271\n",
      "R -3326965889598259002\n",
      "S -3751461658935808453\n",
      "T 5681316854785088902\n",
      "U 4105736101374599389\n",
      "V -1170487231552752526\n",
      "W -8836857100156215643\n",
      "X -6054148098858451883\n",
      "Y 5856888027661781272\n",
      "Z -3708516919899285063\n"
     ]
    }
   ],
   "source": [
    "for s in string.ascii_letters:\n",
    "    print(s,hash(s))"
   ]
  },
  {
   "cell_type": "code",
   "execution_count": null,
   "id": "fadb8ac9-9a9f-4921-b33a-bf93ce0fe379",
   "metadata": {},
   "outputs": [],
   "source": []
  },
  {
   "cell_type": "code",
   "execution_count": null,
   "id": "8acd432d-ebc2-4445-b21e-b7024d0a98d3",
   "metadata": {},
   "outputs": [],
   "source": [
    "# nn model to decode hashings"
   ]
  }
 ],
 "metadata": {
  "kernelspec": {
   "display_name": "Python 3 (ipykernel)",
   "language": "python",
   "name": "python3"
  },
  "language_info": {
   "codemirror_mode": {
    "name": "ipython",
    "version": 3
   },
   "file_extension": ".py",
   "mimetype": "text/x-python",
   "name": "python",
   "nbconvert_exporter": "python",
   "pygments_lexer": "ipython3",
   "version": "3.10.12"
  }
 },
 "nbformat": 4,
 "nbformat_minor": 5
}
