{
 "cells": [
  {
   "cell_type": "code",
   "execution_count": 6,
   "id": "1502b2c3-84d9-4b01-8882-721553cafba5",
   "metadata": {},
   "outputs": [
    {
     "data": {
      "text/plain": [
       "-8288786703729913769"
      ]
     },
     "execution_count": 6,
     "metadata": {},
     "output_type": "execute_result"
    }
   ],
   "source": [
    "hash(\"[1,2,3,4,5]\")"
   ]
  },
  {
   "cell_type": "code",
   "execution_count": null,
   "id": "8acd432d-ebc2-4445-b21e-b7024d0a98d3",
   "metadata": {},
   "outputs": [],
   "source": [
    "# nn model to decode hashings"
   ]
  }
 ],
 "metadata": {
  "kernelspec": {
   "display_name": "Python 3 (ipykernel)",
   "language": "python",
   "name": "python3"
  },
  "language_info": {
   "codemirror_mode": {
    "name": "ipython",
    "version": 3
   },
   "file_extension": ".py",
   "mimetype": "text/x-python",
   "name": "python",
   "nbconvert_exporter": "python",
   "pygments_lexer": "ipython3",
   "version": "3.10.12"
  }
 },
 "nbformat": 4,
 "nbformat_minor": 5
}
