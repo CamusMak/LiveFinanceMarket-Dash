{
 "cells": [
  {
   "cell_type": "code",
   "execution_count": 1,
   "id": "c5e9d070-6e4f-43f5-b771-c4dd62883249",
   "metadata": {},
   "outputs": [],
   "source": [
    "import pandas as pd\n",
    "import numpy as np\n",
    "\n",
    "import yahooquery as yq\n",
    "\n"
   ]
  },
  {
   "cell_type": "code",
   "execution_count": null,
   "id": "695e6931-9c74-4269-bb39-d0d1363f9b87",
   "metadata": {},
   "outputs": [],
   "source": [
    "data = yq.Ticker(\"AAPL)"
   ]
  }
 ],
 "metadata": {
  "kernelspec": {
   "display_name": "Python 3 (ipykernel)",
   "language": "python",
   "name": "python3"
  },
  "language_info": {
   "codemirror_mode": {
    "name": "ipython",
    "version": 3
   },
   "file_extension": ".py",
   "mimetype": "text/x-python",
   "name": "python",
   "nbconvert_exporter": "python",
   "pygments_lexer": "ipython3",
   "version": "3.10.12"
  }
 },
 "nbformat": 4,
 "nbformat_minor": 5
}
